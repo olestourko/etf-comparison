{
 "cells": [
  {
   "cell_type": "code",
   "execution_count": 1,
   "metadata": {},
   "outputs": [],
   "source": [
    "import csv\n",
    "import numpy"
   ]
  },
  {
   "cell_type": "markdown",
   "metadata": {},
   "source": [
    "### Read ETF holding data\n",
    "I'll be comparing two popular Canadian dividend ETFs by looking at their holdings:\n",
    "\n",
    "CDZ - [iShares S&P/TSX Canadian Dividend Aristocrats Index ETF](https://www.blackrock.com/ca/individual/en/products/239834/ishares-sptsx-canadian-dividend-aristocrats-index-fund)   \n",
    "XEI - [iShares S&P/TSX Composite High Dividend Index ETF](https://www.blackrock.com/ca/individual/en/products/239846/ishares-sptsx-equity-income-index-etf)\n",
    "\n",
    "Read in all the holdings from each ETF and use them to create `index -> name` and `name -> index` mappings."
   ]
  },
  {
   "cell_type": "code",
   "execution_count": 2,
   "metadata": {},
   "outputs": [],
   "source": [
    "def get_etf_data(csv_file):\n",
    "    start_row = 11 # Individual holding data starts here\n",
    "    for i in range(0, start_row - 1):\n",
    "        csv_file.next()\n",
    "    \n",
    "    csv_reader = csv.DictReader(csv_file, delimiter=',')\n",
    "    return list(csv_reader)\n",
    "\n",
    "with open('data/CDZ_holdings.csv', 'rb') as csv_file:\n",
    "    CDZ_data = get_etf_data(csv_file)\n",
    "    \n",
    "with open('data/XEI_holdings.csv', 'rb') as csv_file:\n",
    "    XEI_data = get_etf_data(csv_file)\n",
    "\n",
    "def get_all_holdings(etfs):\n",
    "    \"\"\"Gets combined ETF holdings and index mappings.\n",
    "    etfs: a list of etfs\n",
    "    Returns a tuple of holding tickers, index->name mappings, name->index mappings\n",
    "    \"\"\"\n",
    "    combined_holdings = set()\n",
    "    for etf in etfs:\n",
    "        # Note that this is a set comprehension, not a dict comprehension.\n",
    "        holdings = {row['Ticker'] for row in etf}\n",
    "        combined_holdings = combined_holdings.union(holdings)\n",
    "\n",
    "    index_to_name = {i: value for i, value in enumerate(combined_holdings)}\n",
    "    name_to_index = {value: i for i, value in enumerate(combined_holdings)}\n",
    "    return combined_holdings, index_to_name, name_to_index\n",
    "\n",
    "combined_holdings, index_to_name, name_to_index = get_all_holdings([CDZ_data, XEI_data])"
   ]
  },
  {
   "cell_type": "markdown",
   "metadata": {},
   "source": [
    "Create a vector representation for each ETF, using its holdings:  \n",
    "\n",
    "$\\textrm{XEI} = \\begin{bmatrix}4.82\\\\0\\\\\\vdots\\\\2.77\\\\0\\end{bmatrix} = \\begin{bmatrix}\\textrm{BCE INC (4.82%)}\\\\ \\textrm{METRO INC (0%)}\\\\\\vdots\\\\\\textrm{INTER PIPELINE LTD (2.77%)}\\\\\\textrm{TOROMONT INDUSTRIES LTD (0%)}\\end{bmatrix}$"
   ]
  },
  {
   "cell_type": "code",
   "execution_count": 3,
   "metadata": {},
   "outputs": [],
   "source": [
    "def build_holdings_vector(etf, combined_holdings, name_to_index):\n",
    "    n_holdings = len(combined_holdings)\n",
    "    holdings = numpy.zeros(shape=(n_holdings))\n",
    "    for row in etf:\n",
    "        index = name_to_index[row['Ticker']]\n",
    "        holdings[index] = row['Weight (%)']\n",
    "        \n",
    "    return holdings\n",
    "\n",
    "CDZ = build_holdings_vector(CDZ_data, combined_holdings, name_to_index)\n",
    "XEI = build_holdings_vector(XEI_data, combined_holdings, name_to_index)"
   ]
  },
  {
   "cell_type": "markdown",
   "metadata": {},
   "source": [
    "Use [cosine similarity](https://en.wikipedia.org/wiki/Cosine_similarity) to determine who similair the two ETFs are by holdings.\n",
    "\n",
    "$$\\textrm{similarity} = \\cos(\\theta) = \\frac{A \\cdot B}{\\lVert A \\rVert \\times \\lVert B \\rVert}$$\n",
    "\n",
    "Cosine similarity return 1 for complete positive correlation, 0 for completely uncorrelated, and -1 for complete negative correlation."
   ]
  },
  {
   "cell_type": "code",
   "execution_count": 4,
   "metadata": {},
   "outputs": [
    {
     "name": "stdout",
     "output_type": "stream",
     "text": [
      "Holding correlation: 0.52298900804\n"
     ]
    }
   ],
   "source": [
    "def cosine_similarity(a, b):\n",
    "    return a.dot(b) / (numpy.linalg.norm(a) * numpy.linalg.norm(b))\n",
    "\n",
    "holding_correlation = cosine_similarity(CDZ, XEI)\n",
    "print \"Holding correlation: {}\".format(holding_correlation)"
   ]
  },
  {
   "cell_type": "markdown",
   "metadata": {},
   "source": [
    "Do the same thing the holding sectors"
   ]
  },
  {
   "cell_type": "code",
   "execution_count": 5,
   "metadata": {},
   "outputs": [
    {
     "name": "stdout",
     "output_type": "stream",
     "text": [
      "Sector correlation: 0.916196528432\n"
     ]
    }
   ],
   "source": [
    "# Find all the sectors between the two ETFs\n",
    "\n",
    "def get_all_sectors(etfs):\n",
    "    \"\"\"Gets combined ETF sectors and index mappings.\n",
    "    etfs: a list of etfs\n",
    "    Returns a tuple of sectors, index->name mappings, name->index mappings\n",
    "    \"\"\"\n",
    "    combined_sectors = set()\n",
    "    for etf in etfs:\n",
    "        # Note that this is a set comprehension, not a dict comprehension.\n",
    "        sectors = {row['Sector'] for row in etf}\n",
    "        combined_sectors = combined_sectors.union(sectors)\n",
    "\n",
    "    index_to_name = {i: value for i, value in enumerate(combined_sectors)}\n",
    "    name_to_index = {value: i for i, value in enumerate(combined_sectors)}\n",
    "    return combined_sectors, index_to_name, name_to_index\n",
    "        \n",
    "combined_sectors, index_to_name, name_to_index = get_all_sectors([CDZ_data, XEI_data])\n",
    "\n",
    "def build_sectors_vector(etf, combined_holdings, name_to_index):\n",
    "    n_sectors = len(combined_holdings)\n",
    "    sectors = numpy.zeros(shape=(n_sectors))\n",
    "    for row in etf:\n",
    "        index = name_to_index[row['Sector']]\n",
    "        sectors[index] += float(row['Weight (%)'])\n",
    "        \n",
    "    return sectors\n",
    "\n",
    "CDZ_sector_counts = build_sectors_vector(CDZ_data, combined_holdings, name_to_index)\n",
    "XEI_sector_counts = build_sectors_vector(XEI_data, combined_holdings, name_to_index)\n",
    "\n",
    "sector_correlation = cosine_similarity(CDZ_sector_counts, XEI_sector_counts)\n",
    "print \"Sector correlation: {}\".format(sector_correlation)"
   ]
  },
  {
   "cell_type": "markdown",
   "metadata": {},
   "source": [
    "Average the holding and sector correlation to get an idea of how similair the two ETFs are"
   ]
  },
  {
   "cell_type": "code",
   "execution_count": 6,
   "metadata": {},
   "outputs": [
    {
     "name": "stdout",
     "output_type": "stream",
     "text": [
      "Similarity: 0.719592768236\n"
     ]
    }
   ],
   "source": [
    "print \"Similarity: {}\".format(numpy.mean([holding_correlation, sector_correlation]))"
   ]
  }
 ],
 "metadata": {
  "kernelspec": {
   "display_name": "Python 2",
   "language": "python",
   "name": "python2"
  },
  "language_info": {
   "codemirror_mode": {
    "name": "ipython",
    "version": 2
   },
   "file_extension": ".py",
   "mimetype": "text/x-python",
   "name": "python",
   "nbconvert_exporter": "python",
   "pygments_lexer": "ipython2",
   "version": "2.7.12"
  }
 },
 "nbformat": 4,
 "nbformat_minor": 2
}
